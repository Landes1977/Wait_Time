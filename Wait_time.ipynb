{
 "cells": [
  {
   "cell_type": "markdown",
   "metadata": {},
   "source": [
    "# Imports"
   ]
  },
  {
   "cell_type": "code",
   "execution_count": 2,
   "metadata": {},
   "outputs": [],
   "source": [
    "from selenium import webdriver\n",
    "from selenium.webdriver.common.keys import Keys\n",
    "from selenium.common.exceptions import NoSuchElementException\n",
    "import time\n",
    "import pandas as pd\n",
    "import numpy as np\n",
    "from datetime import date\n",
    "from datetime import datetime"
   ]
  },
  {
   "cell_type": "markdown",
   "metadata": {},
   "source": [
    "# Chrome Driver and Website"
   ]
  },
  {
   "cell_type": "code",
   "execution_count": 3,
   "metadata": {},
   "outputs": [],
   "source": [
    "driver = webdriver.Chrome()\n",
    "\n",
    "url_base = 'https://wdwpassport.com/wait-times/'\n",
    "# park, ride index, final hour\n",
    "parks = [['magic-kingdom', 24, 22], ['epcot', 12, 21], ['hollywood-studios', 12, 21], ['animal-kingdom', 10, 20]]"
   ]
  },
  {
   "cell_type": "markdown",
   "metadata": {},
   "source": [
    "# Functions"
   ]
  },
  {
   "cell_type": "markdown",
   "metadata": {},
   "source": [
    "## Check for closed parks"
   ]
  },
  {
   "cell_type": "code",
   "execution_count": 4,
   "metadata": {},
   "outputs": [],
   "source": [
    "def park_closed():\n",
    "    down_xpath = '//*[@id=\"app\"]/div/div[1]/ul/li'\n",
    "    check = driver.find_element_by_xpath(down_xpath)\n",
    "    if 'Park Currently Closed' in check.text:\n",
    "        return True\n",
    "    return False"
   ]
  },
  {
   "cell_type": "markdown",
   "metadata": {},
   "source": [
    "## Checks if the ride is down"
   ]
  },
  {
   "cell_type": "code",
   "execution_count": 5,
   "metadata": {},
   "outputs": [],
   "source": [
    "def check_ride_down(n):\n",
    "    try:\n",
    "        down_xpath = '//*[@id=\"app\"]/div/div/ul/li['+str(n)+']/div[1]/div[1]/div'\n",
    "        driver.find_element_by_xpath(down_xpath)\n",
    "    except NoSuchElementException:\n",
    "        return False\n",
    "    return True"
   ]
  },
  {
   "cell_type": "markdown",
   "metadata": {},
   "source": [
    "## Finds the ride name and wait time"
   ]
  },
  {
   "cell_type": "code",
   "execution_count": 6,
   "metadata": {},
   "outputs": [],
   "source": [
    "def ride(n):\n",
    "    name_xpath = '//*[@id=\"app\"]/div/div/ul/li['+str(n)+']/h3'\n",
    "    time_xpath = '//*[@id=\"app\"]/div/div/ul/li['+str(n)+']/div[1]/div/div'\n",
    "    ride_name = driver.find_element_by_xpath(name_xpath)\n",
    "    ride_time = driver.find_element_by_xpath(time_xpath)\n",
    "    return ride_name.text, ride_time.text"
   ]
  },
  {
   "cell_type": "markdown",
   "metadata": {},
   "source": [
    "## Collects the wait times "
   ]
  },
  {
   "cell_type": "code",
   "execution_count": 11,
   "metadata": {},
   "outputs": [],
   "source": [
    "def collect_times(url_base=url_base, parks=parks):\n",
    "    wait_list = []\n",
    "    for park in parks:\n",
    "        if int(datetime.now().strftime(\"%H\")) < park[2]:\n",
    "            url = url_base + park[0]\n",
    "            driver.get(url)\n",
    "            time.sleep(1)\n",
    "            if park_closed() == False:\n",
    "                for n in range(2, park[1]):\n",
    "                    if check_ride_down(n) == True:\n",
    "                        a = ride(n)\n",
    "                        wait_list+=[[date.today().strftime(\"%m/%d/%Y\"),\n",
    "                                     datetime.now().strftime(\"%H:%M\"), \n",
    "                                     park[0], \n",
    "                                     a[0], \n",
    "                                     a[1]]]\n",
    "    return wait_list"
   ]
  },
  {
   "cell_type": "markdown",
   "metadata": {},
   "source": [
    "## Appends csv data"
   ]
  },
  {
   "cell_type": "code",
   "execution_count": 7,
   "metadata": {},
   "outputs": [],
   "source": [
    "def update_file():\n",
    "    times = collect_times()\n",
    "    if len(times) > 0:\n",
    "        df_new = pd.DataFrame(np.array(times), columns=['date', 'time', 'park', 'ride', 'wait'])\n",
    "        df_old = pd.read_csv('wait_time.csv')\n",
    "        df_combine = pd.concat([df_old, df_new])\n",
    "        df_combine.to_csv(index=False, path_or_buf='wait_time.csv', mode='w+')"
   ]
  },
  {
   "cell_type": "markdown",
   "metadata": {},
   "source": [
    "## Main"
   ]
  },
  {
   "cell_type": "code",
   "execution_count": 13,
   "metadata": {},
   "outputs": [],
   "source": [
    "def main():\n",
    "    while int(datetime.now().strftime(\"%H\")) < 23:\n",
    "        if int(datetime.now().strftime(\"%M\")) % 5 == 0:\n",
    "            update_file()\n",
    "            time.sleep(295)"
   ]
  },
  {
   "cell_type": "markdown",
   "metadata": {},
   "source": [
    "# Test"
   ]
  },
  {
   "cell_type": "code",
   "execution_count": 10,
   "metadata": {},
   "outputs": [
    {
     "name": "stdout",
     "output_type": "stream",
     "text": [
      "False\n",
      "True\n",
      "True\n",
      "True\n"
     ]
    }
   ],
   "source": [
    "for park in parks:\n",
    "    url = url_base + park[0]\n",
    "    driver.get(url)\n",
    "    print(park_closed())"
   ]
  },
  {
   "cell_type": "code",
   "execution_count": 7,
   "metadata": {},
   "outputs": [],
   "source": [
    "def collect_times2(url_base=url_base, parks=parks):\n",
    "    wait_list = []\n",
    "    for park in parks:\n",
    "        url = url_base + park[0]\n",
    "        driver.get(url)\n",
    "        time.sleep(1)\n",
    "        if park_closed() == False:\n",
    "            for n in range(2, park[1]):\n",
    "                if check_ride_down(n) == True:\n",
    "                    a = ride(n)\n",
    "                    wait_list+=[[date.today().strftime(\"%m/%d/%Y\"),\n",
    "                                 datetime.now().strftime(\"%H:%M\"),\n",
    "                                 park[0],\n",
    "                                 a[0],\n",
    "                                 a[1]]]\n",
    "    return wait_list"
   ]
  },
  {
   "cell_type": "code",
   "execution_count": 8,
   "metadata": {},
   "outputs": [],
   "source": [
    "def update_file2():\n",
    "    times = collect_times2()\n",
    "    if len(times) > 0:\n",
    "        df_new = pd.DataFrame(np.array(times), columns=['date', 'time', 'park', 'ride', 'wait'])\n",
    "        df_old = pd.read_csv('wait_time.csv')\n",
    "        df_combine = pd.concat([df_old, df_new])\n",
    "        df_combine.to_csv(index=False, path_or_buf='wait_time.csv', mode='w+')"
   ]
  },
  {
   "cell_type": "code",
   "execution_count": 9,
   "metadata": {},
   "outputs": [],
   "source": [
    "def main2():\n",
    "    while int(datetime.now().strftime(\"%H\")) < 23:\n",
    "        if int(datetime.now().strftime(\"%M\")) % 5 == 0:\n",
    "            update_file2()\n",
    "            time.sleep(295)"
   ]
  },
  {
   "cell_type": "code",
   "execution_count": null,
   "metadata": {},
   "outputs": [],
   "source": [
    "main2()"
   ]
  },
  {
   "cell_type": "code",
   "execution_count": null,
   "metadata": {},
   "outputs": [],
   "source": []
  }
 ],
 "metadata": {
  "kernelspec": {
   "display_name": "Python 3",
   "language": "python",
   "name": "python3"
  },
  "language_info": {
   "codemirror_mode": {
    "name": "ipython",
    "version": 3
   },
   "file_extension": ".py",
   "mimetype": "text/x-python",
   "name": "python",
   "nbconvert_exporter": "python",
   "pygments_lexer": "ipython3",
   "version": "3.7.3"
  },
  "toc": {
   "base_numbering": 1,
   "nav_menu": {},
   "number_sections": true,
   "sideBar": true,
   "skip_h1_title": false,
   "title_cell": "Table of Contents",
   "title_sidebar": "Contents",
   "toc_cell": false,
   "toc_position": {},
   "toc_section_display": true,
   "toc_window_display": false
  }
 },
 "nbformat": 4,
 "nbformat_minor": 4
}
